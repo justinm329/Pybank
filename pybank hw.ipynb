{
 "cells": [
  {
   "cell_type": "code",
   "execution_count": 2,
   "id": "desirable-crisis",
   "metadata": {},
   "outputs": [],
   "source": [
    "# set path to import the budget_data file\n",
    "\n",
    "from pathlib import Path\n",
    "import csv"
   ]
  },
  {
   "cell_type": "code",
   "execution_count": 3,
   "id": "dental-receptor",
   "metadata": {},
   "outputs": [],
   "source": [
    "csvpath = Path('../Instructions/PyBank/Resources/budget_data.csv')"
   ]
  },
  {
   "cell_type": "code",
   "execution_count": 13,
   "id": "velvet-stanley",
   "metadata": {},
   "outputs": [],
   "source": [
    "# Initialize financial paraameters\n",
    "months = 0\n",
    "change_month = []\n",
    "my_net_change_list = []\n",
    "greatest_increase = ['' , 0]\n",
    "greatest_decrease = ['' , 99999999999]\n",
    "total_net = 0 "
   ]
  },
  {
   "cell_type": "code",
   "execution_count": 22,
   "id": "superb-israel",
   "metadata": {},
   "outputs": [],
   "source": [
    "# open input path as a file function\n",
    "with open(csvpath, 'r') as data:\n",
    "    reader = csv.reader(data, delimiter = \",\")\n",
    "    \n",
    "    # Reading header \n",
    "    header = next(reader)\n",
    "    \n",
    "    # Extract the finromation for the first row\n",
    "    row_1 = next(reader)\n",
    "    months += 1\n",
    "    total_net += int(row_1[1])\n",
    "    previous_net = int(row_1[1])\n",
    "    \n",
    "    for row in reader:\n",
    "        \n",
    "        # Total update\n",
    "        months += 1\n",
    "        total_net += int(row[1])\n",
    "        \n",
    "        # Net change\n",
    "        net_change = int(row[1]) - previous_net\n",
    "        previous_net = int(row[1])\n",
    "        my_net_change_list = my_net_change_list + [net_change]\n",
    "        change_month = change_month + [row[0]]\n",
    "        \n",
    "        # Greatest increase\n",
    "        if net_change > greatest_increase[1]:\n",
    "            greatest_increase[0] = row[0]\n",
    "            greatest_increase[1] = net_change\n",
    "        \n",
    "        # Greatest decrease\n",
    "        if net_change < greatest_decrease[1]:\n",
    "            greatest_decrease[0] = row[0]\n",
    "            greatest_decrease[1] = net_change\n",
    "            \n",
    "monthly_average = round(sum(my_net_change_list)/len(my_net_change_list) , 2)"
   ]
  },
  {
   "cell_type": "code",
   "execution_count": 27,
   "id": "complex-desire",
   "metadata": {},
   "outputs": [],
   "source": [
    "output_file = Path('../Pybank HW/output_file.txt')"
   ]
  },
  {
   "cell_type": "code",
   "execution_count": 28,
   "id": "loaded-romantic",
   "metadata": {},
   "outputs": [],
   "source": [
    "# Exporting results to txt file\n",
    "with open (output_file, \"w\") as text_file:\n",
    "    text_file.write(\"Financial Analysis\\n\")\n",
    "    text_file.write(\"---------------------\\n\")\n",
    "    text_file.write(f\"Total Months: {months}\\n\")\n",
    "    text_file.write(f\"Total: {total_net}\\n\")\n",
    "    text_file.write(f\"Average  Change: {monthly_average}\\n\")\n",
    "    text_file.write(f\"Greatest Increase in Profits: {greatest_increase[0]} $({greatest_increase[1]})\\n\")\n",
    "    text_file.write(f\"Greatest Decrease in Profits: {greatest_decrease[0]} $({greatest_decrease[1]})\\n\")\n"
   ]
  },
  {
   "cell_type": "code",
   "execution_count": null,
   "id": "seasonal-federation",
   "metadata": {},
   "outputs": [],
   "source": []
  },
  {
   "cell_type": "code",
   "execution_count": null,
   "id": "smoking-train",
   "metadata": {},
   "outputs": [],
   "source": []
  }
 ],
 "metadata": {
  "kernelspec": {
   "display_name": "Python 3",
   "language": "python",
   "name": "python3"
  },
  "language_info": {
   "codemirror_mode": {
    "name": "ipython",
    "version": 3
   },
   "file_extension": ".py",
   "mimetype": "text/x-python",
   "name": "python",
   "nbconvert_exporter": "python",
   "pygments_lexer": "ipython3",
   "version": "3.8.5"
  }
 },
 "nbformat": 4,
 "nbformat_minor": 5
}
